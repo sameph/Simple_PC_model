{
  "cells": [
    {
      "cell_type": "code",
      "execution_count": 1,
      "metadata": {
        "id": "MSYM4R_Jwspf"
      },
      "outputs": [],
      "source": [
        "import torch\n",
        "import torch.nn as nn\n",
        "import torch.optim as optim\n",
        "from torchvision import datasets, transforms\n",
        "from tqdm import tqdm"
      ],
      "id": "MSYM4R_Jwspf"
    },
    {
      "cell_type": "code",
      "execution_count": 2,
      "id": "e9366f57",
      "metadata": {
        "id": "e9366f57"
      },
      "outputs": [],
      "source": [
        "class PCNetwork(nn.Module):\n",
        "    def __init__(self, input_dim=784, hidden_dim=128, output_dim=10):\n",
        "        super().__init__()\n",
        "        self.fc1 = nn.Linear(input_dim, hidden_dim)\n",
        "        self.fc2 = nn.Linear(hidden_dim, output_dim)\n",
        "\n",
        "        self.phi1 = torch.zeros(1, hidden_dim, requires_grad=True)\n",
        "        self.phi2 = torch.zeros(1, output_dim, requires_grad=True)\n",
        "\n",
        "        self.mu1 = torch.zeros(1, hidden_dim)\n",
        "        self.mu2 = torch.zeros(1, output_dim)\n",
        "\n",
        "    def forward(self, x):\n",
        "        self.mu1 = torch.relu(self.fc1(x))\n",
        "        self.mu2 = self.fc2(self.phi1)\n",
        "        return self.mu2\n",
        "\n",
        "\n",
        "\n",
        ""
      ]
    }
  ],
  "metadata": {
    "kernelspec": {
      "display_name": "Python 3",
      "name": "python3"
    },
    "language_info": {
      "name": "python",
      "version": "3.12.3"
    },
    "colab": {
      "provenance": [],
      "toc_visible": true,
      "gpuType": "T4"
    },
    "accelerator": "GPU"
  },
  "nbformat": 4,
  "nbformat_minor": 5
}