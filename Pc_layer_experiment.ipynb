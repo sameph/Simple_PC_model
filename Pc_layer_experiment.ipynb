{
  "cells": [
    {
      "cell_type": "code",
      "execution_count": 9,
      "metadata": {
        "id": "MSYM4R_Jwspf"
      },
      "outputs": [],
      "source": [
        "import torch\n",
        "import torch.nn as nn\n",
        "import torch.optim as optim\n",
        "from torchvision import datasets, transforms\n",
        "from tqdm import tqdm"
      ],
      "id": "MSYM4R_Jwspf"
    },
    {
      "cell_type": "code",
      "execution_count": 10,
      "id": "e9366f57",
      "metadata": {
        "id": "e9366f57"
      },
      "outputs": [],
      "source": [
        "class PCNetwork(nn.Module):\n",
        "    def __init__(self, input_dim=784, hidden_dim=128, output_dim=10):\n",
        "        super().__init__()\n",
        "        self.fc1 = nn.Linear(input_dim, hidden_dim)\n",
        "        self.fc2 = nn.Linear(hidden_dim, output_dim)\n",
        "\n",
        "        self.phi1 = torch.zeros(1, hidden_dim, requires_grad=True)\n",
        "        self.phi2 = torch.zeros(1, output_dim, requires_grad=True)\n",
        "\n",
        "        self.mu1 = torch.zeros(1, hidden_dim)\n",
        "        self.mu2 = torch.zeros(1, output_dim)\n",
        "\n",
        "    def forward(self, x):\n",
        "        self.mu1 = torch.relu(self.fc1(x))\n",
        "        self.mu2 = self.fc2(self.phi1)\n",
        "        return self.mu2\n",
        "\n",
        "    def update_activities(self, x, target, lr_phi=0.01, steps=20):\n",
        "        self.mu1 = torch.relu(self.fc1(x))\n",
        "        for _ in range(steps):\n",
        "            self.mu2 = self.fc2(self.phi1)\n",
        "\n",
        "            eps1 = self.phi1 - self.mu1\n",
        "            eps2 = self.phi2 - self.mu2\n",
        "\n",
        "            energy = 0.5 * (eps1.pow(2).sum() + 0.5 * eps2.pow(2).sum())\n",
        "\n",
        "            energy.backward(retain_graph=True)\n",
        "\n",
        "            with torch.no_grad():\n",
        "                if self.phi1.grad is not None:\n",
        "                    self.phi1 -= lr_phi * self.phi1.grad\n",
        "                    self.phi1.grad.zero_()\n",
        "                if self.phi2.grad is not None:\n",
        "                    self.phi2 -= lr_phi * self.phi2.grad\n",
        "                    self.phi2.grad.zero_()\n",
        "    def update_weights(self, x, target, lr_theta=0.001):\n",
        "        self.forward(x)\n",
        "\n",
        "        with torch.no_grad():\n",
        "            self.phi2 = target.clone().detach().requires_grad_(True)\n",
        "\n",
        "        eps1 = self.phi1 - self.mu1\n",
        "        eps2 = self.phi2 - self.mu2\n",
        "        energy = 0.5 * (eps1.pow(2).sum() + 0.5 * eps2.pow(2).sum())\n",
        "\n",
        "        energy.backward()\n",
        "\n",
        "        with torch.no_grad():\n",
        "            for param in self.parameters():\n",
        "                if param.grad is not None:\n",
        "                    param -= lr_theta * param.grad\n",
        "            self.zero_grad()\n",
        "\n",
        "\n"
      ]
    },
    {
      "cell_type": "code",
      "source": [
        "def train_pc(model, train_loader, epochs=5, lr_phi=0.01, lr_theta=0.001):\n",
        "    optimizer = optim.Adam(model.parameters(), lr=lr_theta)\n",
        "    for epoch in range(epochs):\n",
        "        for x, y in tqdm(train_loader):\n",
        "            x = x.view(x.size(0), -1)  # Flatten MNIST\n",
        "            target = torch.zeros(1, 10).scatter_(1, y.unsqueeze(0), 1)\n",
        "\n",
        "            # E-step: Update neural activities (φ)\n",
        "            model.update_activities(x, target, lr_phi=lr_phi, steps=20)\n",
        "\n",
        "            # M-step: Update weights (θ)\n",
        "            model.update_weights(x, target, lr_theta=lr_theta)"
      ],
      "metadata": {
        "id": "x1BLCVbfHUKg"
      },
      "id": "x1BLCVbfHUKg",
      "execution_count": 11,
      "outputs": []
    },
    {
      "cell_type": "code",
      "source": [
        "def test_pc(model, test_loader):\n",
        "    correct = 0\n",
        "    for x, y in test_loader:\n",
        "        x = x.view(x.size(0), -1)\n",
        "        output = model(x)\n",
        "        pred = output.argmax(dim=1)\n",
        "        correct += pred.eq(y).sum().item()\n",
        "    accuracy = 100. * correct / len(test_loader.dataset)\n",
        "    print(f\"Accuracy: {accuracy:.2f}%\")"
      ],
      "metadata": {
        "id": "veC7ISeWHL9i"
      },
      "id": "veC7ISeWHL9i",
      "execution_count": 12,
      "outputs": []
    },
    {
      "cell_type": "code",
      "source": [
        "# Load data\n",
        "transform = transforms.Compose([transforms.ToTensor()])\n",
        "train_data = datasets.MNIST(\"./data\", train=True, download=True, transform=transform)\n",
        "test_data = datasets.MNIST(\"./data\", train=False, transform=transform)\n",
        "train_loader = torch.utils.data.DataLoader(train_data, batch_size=1, shuffle=True)\n",
        "test_loader = torch.utils.data.DataLoader(test_data, batch_size=1, shuffle=False)\n",
        "\n",
        "# Train\n",
        "model = PCNetwork()\n",
        "train_pc(model, train_loader, epochs=5)\n",
        "test_pc(model, test_loader)"
      ],
      "metadata": {
        "id": "125IGkHuHMZp",
        "outputId": "845e84af-ec15-46b6-8195-518fd1dbbd39",
        "colab": {
          "base_uri": "https://localhost:8080/"
        }
      },
      "id": "125IGkHuHMZp",
      "execution_count": 13,
      "outputs": [
        {
          "output_type": "stream",
          "name": "stderr",
          "text": [
            "100%|██████████| 9.91M/9.91M [00:01<00:00, 5.08MB/s]\n",
            "100%|██████████| 28.9k/28.9k [00:00<00:00, 135kB/s]\n",
            "100%|██████████| 1.65M/1.65M [00:01<00:00, 1.29MB/s]\n",
            "100%|██████████| 4.54k/4.54k [00:00<00:00, 7.10MB/s]\n",
            "100%|██████████| 60000/60000 [11:37<00:00, 86.05it/s]\n",
            "100%|██████████| 60000/60000 [11:37<00:00, 86.04it/s]\n",
            "100%|██████████| 60000/60000 [11:44<00:00, 85.21it/s]\n",
            "100%|██████████| 60000/60000 [11:46<00:00, 84.93it/s]\n",
            "100%|██████████| 60000/60000 [11:42<00:00, 85.36it/s]\n"
          ]
        },
        {
          "output_type": "stream",
          "name": "stdout",
          "text": [
            "Accuracy: 11.35%\n"
          ]
        }
      ]
    },
    {
      "cell_type": "code",
      "source": [],
      "metadata": {
        "id": "KdWPX96MHO9b"
      },
      "id": "KdWPX96MHO9b",
      "execution_count": null,
      "outputs": []
    }
  ],
  "metadata": {
    "kernelspec": {
      "display_name": "Python 3",
      "name": "python3"
    },
    "language_info": {
      "name": "python",
      "version": "3.12.3"
    },
    "colab": {
      "provenance": [],
      "toc_visible": true,
      "gpuType": "T4"
    },
    "accelerator": "GPU"
  },
  "nbformat": 4,
  "nbformat_minor": 5
}